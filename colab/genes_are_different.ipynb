{
  "nbformat": 4,
  "nbformat_minor": 0,
  "metadata": {
    "colab": {
      "provenance": [],
      "authorship_tag": "ABX9TyORuji32BVqy5sxxXUORGmT",
      "include_colab_link": true
    },
    "kernelspec": {
      "name": "python3",
      "display_name": "Python 3"
    },
    "language_info": {
      "name": "python"
    }
  },
  "cells": [
    {
      "cell_type": "markdown",
      "metadata": {
        "id": "view-in-github",
        "colab_type": "text"
      },
      "source": [
        "<a href=\"https://colab.research.google.com/github/Dowell-Lab/pop_inf_beta/blob/main/colab/genes_are_different.ipynb\" target=\"_parent\"><img src=\"https://colab.research.google.com/assets/colab-badge.svg\" alt=\"Open In Colab\"/></a>"
      ]
    },
    {
      "cell_type": "code",
      "execution_count": 1,
      "metadata": {
        "id": "jbeZthFSlIi3"
      },
      "outputs": [],
      "source": [
        "import pandas as pd\n",
        "import plotly.express as px"
      ]
    },
    {
      "cell_type": "code",
      "source": [
        "indir=\"https://raw.githubusercontent.com/Dowell-Lab/pop_inf_beta/refs/heads/main/testdata/\"\n"
      ],
      "metadata": {
        "id": "PNBNe8EUiIjn"
      },
      "execution_count": 2,
      "outputs": []
    },
    {
      "cell_type": "code",
      "source": [
        "metadataPRO = \"metaPRO.txt\"\n",
        "metadataRNA = \"metaRNA.txt\"\n",
        "popdiffPRO = \"pop_PROgenebody_PROseq_res.txt\"\n",
        "popdiffRNA = \"pop_RNAgene_RNAseq_res.txt\"\n",
        "normcountsPRO = \"normalized__master__PRO.csv\"\n",
        "normcountsRNA = \"normalized__master__RNA.csv\"\n",
        "PROsufix= \"_PROgenebody_PROseq_res.txt\"\n",
        "RNAsufix= \"_RNAgene_RNAseq_res.txt\""
      ],
      "metadata": {
        "id": "cywBA61NkhOm"
      },
      "execution_count": 3,
      "outputs": []
    },
    {
      "cell_type": "markdown",
      "source": [
        "# Pull in the meta data for the experiment"
      ],
      "metadata": {
        "id": "F4zfIfngqsld"
      }
    },
    {
      "cell_type": "code",
      "source": [
        "fn = indir+metadataPRO\n",
        "PROmeta = pd.read_csv(fn)\n",
        "fn = indir+metadataRNA\n",
        "RNAmeta = pd.read_csv(fn)"
      ],
      "metadata": {
        "id": "MF0uQyG0idI2"
      },
      "execution_count": 4,
      "outputs": []
    },
    {
      "cell_type": "code",
      "source": [
        "people = PROmeta[\"genotype\"].unique()\n",
        "people"
      ],
      "metadata": {
        "colab": {
          "base_uri": "https://localhost:8080/"
        },
        "id": "_66tiPN6mc1P",
        "outputId": "8683a1c5-cfb2-4790-c8dc-b19523f1f52d"
      },
      "execution_count": 5,
      "outputs": [
        {
          "output_type": "execute_result",
          "data": {
            "text/plain": [
              "array(['ChenChao', 'Dave', 'Eric', 'Ethan', 'Khaondo', 'Niyilolawa',\n",
              "       'Pedro', 'Srivathani'], dtype=object)"
            ]
          },
          "metadata": {},
          "execution_count": 5
        }
      ]
    },
    {
      "cell_type": "markdown",
      "source": [
        "# Pull in the normalized counts for every gene in every person"
      ],
      "metadata": {
        "id": "vDAJOz-lq03c"
      }
    },
    {
      "cell_type": "code",
      "source": [
        "PROcounts = pd.read_csv(indir+normcountsPRO, index_col=0)\n",
        "RNAcounts = pd.read_csv(indir+normcountsRNA, index_col=0)"
      ],
      "metadata": {
        "id": "cT_Mz_BanLJ2"
      },
      "execution_count": 6,
      "outputs": []
    },
    {
      "cell_type": "markdown",
      "source": [
        "# Which genes are different in the population after treating the population with interferon beta. This was measured via both PRO-seq and RNA-seq."
      ],
      "metadata": {
        "id": "Xq9zCZNjq5Ec"
      }
    },
    {
      "cell_type": "code",
      "source": [
        "popdiffPROdf = pd.read_csv(indir+popdiffPRO, index_col=0)\n",
        "popdiffPROdf = popdiffPROdf.sort_values(\"padj\")\n",
        "popdiffRNAdf = pd.read_csv(indir+popdiffRNA, index_col=0)\n",
        "popdiffRNAdf = popdiffRNAdf.sort_values(\"padj\")"
      ],
      "metadata": {
        "id": "YY71CW6pnN9a"
      },
      "execution_count": 7,
      "outputs": []
    },
    {
      "cell_type": "code",
      "source": [
        "popdiffRNAdf"
      ],
      "metadata": {
        "colab": {
          "base_uri": "https://localhost:8080/",
          "height": 424
        },
        "id": "YNg9Hl2MoF0v",
        "outputId": "2555f3e9-1b4a-4b0a-fe0e-bd9fad43208e"
      },
      "execution_count": 8,
      "outputs": [
        {
          "output_type": "execute_result",
          "data": {
            "text/plain": [
              "                baseMean  log2FoldChange     lfcSE       stat         pvalue  \\\n",
              "DTX3L       11268.033605        3.254709  0.107344  30.320488  6.156466e-202   \n",
              "USP18        3161.533571        4.362786  0.148979  29.284542  1.631945e-188   \n",
              "SLFN5       12528.305968        3.220319  0.110883  29.042399  1.919481e-185   \n",
              "APOL6       15036.688842        3.437850  0.118853  28.925306  5.739085e-184   \n",
              "PLSCR1       3834.971435        3.494580  0.120801  28.928439  5.241196e-184   \n",
              "...                  ...             ...       ...        ...            ...   \n",
              "SPRY3_1         0.000000             NaN       NaN        NaN            NaN   \n",
              "VAMP7_1         0.000000             NaN       NaN        NaN            NaN   \n",
              "IL9R_1          0.000000             NaN       NaN        NaN            NaN   \n",
              "WASIR1_1        0.000000             NaN       NaN        NaN            NaN   \n",
              "DDX11L16_1      0.000000             NaN       NaN        NaN            NaN   \n",
              "\n",
              "                     padj  \n",
              "DTX3L       1.412540e-197  \n",
              "USP18       1.872167e-184  \n",
              "SLFN5       1.468019e-181  \n",
              "APOL6       2.633551e-180  \n",
              "PLSCR1      2.633551e-180  \n",
              "...                   ...  \n",
              "SPRY3_1               NaN  \n",
              "VAMP7_1               NaN  \n",
              "IL9R_1                NaN  \n",
              "WASIR1_1              NaN  \n",
              "DDX11L16_1            NaN  \n",
              "\n",
              "[42243 rows x 6 columns]"
            ],
            "text/html": [
              "\n",
              "  <div id=\"df-8f8f6759-c291-43f3-8a5b-f5071f3e9b7c\" class=\"colab-df-container\">\n",
              "    <div>\n",
              "<style scoped>\n",
              "    .dataframe tbody tr th:only-of-type {\n",
              "        vertical-align: middle;\n",
              "    }\n",
              "\n",
              "    .dataframe tbody tr th {\n",
              "        vertical-align: top;\n",
              "    }\n",
              "\n",
              "    .dataframe thead th {\n",
              "        text-align: right;\n",
              "    }\n",
              "</style>\n",
              "<table border=\"1\" class=\"dataframe\">\n",
              "  <thead>\n",
              "    <tr style=\"text-align: right;\">\n",
              "      <th></th>\n",
              "      <th>baseMean</th>\n",
              "      <th>log2FoldChange</th>\n",
              "      <th>lfcSE</th>\n",
              "      <th>stat</th>\n",
              "      <th>pvalue</th>\n",
              "      <th>padj</th>\n",
              "    </tr>\n",
              "  </thead>\n",
              "  <tbody>\n",
              "    <tr>\n",
              "      <th>DTX3L</th>\n",
              "      <td>11268.033605</td>\n",
              "      <td>3.254709</td>\n",
              "      <td>0.107344</td>\n",
              "      <td>30.320488</td>\n",
              "      <td>6.156466e-202</td>\n",
              "      <td>1.412540e-197</td>\n",
              "    </tr>\n",
              "    <tr>\n",
              "      <th>USP18</th>\n",
              "      <td>3161.533571</td>\n",
              "      <td>4.362786</td>\n",
              "      <td>0.148979</td>\n",
              "      <td>29.284542</td>\n",
              "      <td>1.631945e-188</td>\n",
              "      <td>1.872167e-184</td>\n",
              "    </tr>\n",
              "    <tr>\n",
              "      <th>SLFN5</th>\n",
              "      <td>12528.305968</td>\n",
              "      <td>3.220319</td>\n",
              "      <td>0.110883</td>\n",
              "      <td>29.042399</td>\n",
              "      <td>1.919481e-185</td>\n",
              "      <td>1.468019e-181</td>\n",
              "    </tr>\n",
              "    <tr>\n",
              "      <th>APOL6</th>\n",
              "      <td>15036.688842</td>\n",
              "      <td>3.437850</td>\n",
              "      <td>0.118853</td>\n",
              "      <td>28.925306</td>\n",
              "      <td>5.739085e-184</td>\n",
              "      <td>2.633551e-180</td>\n",
              "    </tr>\n",
              "    <tr>\n",
              "      <th>PLSCR1</th>\n",
              "      <td>3834.971435</td>\n",
              "      <td>3.494580</td>\n",
              "      <td>0.120801</td>\n",
              "      <td>28.928439</td>\n",
              "      <td>5.241196e-184</td>\n",
              "      <td>2.633551e-180</td>\n",
              "    </tr>\n",
              "    <tr>\n",
              "      <th>...</th>\n",
              "      <td>...</td>\n",
              "      <td>...</td>\n",
              "      <td>...</td>\n",
              "      <td>...</td>\n",
              "      <td>...</td>\n",
              "      <td>...</td>\n",
              "    </tr>\n",
              "    <tr>\n",
              "      <th>SPRY3_1</th>\n",
              "      <td>0.000000</td>\n",
              "      <td>NaN</td>\n",
              "      <td>NaN</td>\n",
              "      <td>NaN</td>\n",
              "      <td>NaN</td>\n",
              "      <td>NaN</td>\n",
              "    </tr>\n",
              "    <tr>\n",
              "      <th>VAMP7_1</th>\n",
              "      <td>0.000000</td>\n",
              "      <td>NaN</td>\n",
              "      <td>NaN</td>\n",
              "      <td>NaN</td>\n",
              "      <td>NaN</td>\n",
              "      <td>NaN</td>\n",
              "    </tr>\n",
              "    <tr>\n",
              "      <th>IL9R_1</th>\n",
              "      <td>0.000000</td>\n",
              "      <td>NaN</td>\n",
              "      <td>NaN</td>\n",
              "      <td>NaN</td>\n",
              "      <td>NaN</td>\n",
              "      <td>NaN</td>\n",
              "    </tr>\n",
              "    <tr>\n",
              "      <th>WASIR1_1</th>\n",
              "      <td>0.000000</td>\n",
              "      <td>NaN</td>\n",
              "      <td>NaN</td>\n",
              "      <td>NaN</td>\n",
              "      <td>NaN</td>\n",
              "      <td>NaN</td>\n",
              "    </tr>\n",
              "    <tr>\n",
              "      <th>DDX11L16_1</th>\n",
              "      <td>0.000000</td>\n",
              "      <td>NaN</td>\n",
              "      <td>NaN</td>\n",
              "      <td>NaN</td>\n",
              "      <td>NaN</td>\n",
              "      <td>NaN</td>\n",
              "    </tr>\n",
              "  </tbody>\n",
              "</table>\n",
              "<p>42243 rows × 6 columns</p>\n",
              "</div>\n",
              "    <div class=\"colab-df-buttons\">\n",
              "\n",
              "  <div class=\"colab-df-container\">\n",
              "    <button class=\"colab-df-convert\" onclick=\"convertToInteractive('df-8f8f6759-c291-43f3-8a5b-f5071f3e9b7c')\"\n",
              "            title=\"Convert this dataframe to an interactive table.\"\n",
              "            style=\"display:none;\">\n",
              "\n",
              "  <svg xmlns=\"http://www.w3.org/2000/svg\" height=\"24px\" viewBox=\"0 -960 960 960\">\n",
              "    <path d=\"M120-120v-720h720v720H120Zm60-500h600v-160H180v160Zm220 220h160v-160H400v160Zm0 220h160v-160H400v160ZM180-400h160v-160H180v160Zm440 0h160v-160H620v160ZM180-180h160v-160H180v160Zm440 0h160v-160H620v160Z\"/>\n",
              "  </svg>\n",
              "    </button>\n",
              "\n",
              "  <style>\n",
              "    .colab-df-container {\n",
              "      display:flex;\n",
              "      gap: 12px;\n",
              "    }\n",
              "\n",
              "    .colab-df-convert {\n",
              "      background-color: #E8F0FE;\n",
              "      border: none;\n",
              "      border-radius: 50%;\n",
              "      cursor: pointer;\n",
              "      display: none;\n",
              "      fill: #1967D2;\n",
              "      height: 32px;\n",
              "      padding: 0 0 0 0;\n",
              "      width: 32px;\n",
              "    }\n",
              "\n",
              "    .colab-df-convert:hover {\n",
              "      background-color: #E2EBFA;\n",
              "      box-shadow: 0px 1px 2px rgba(60, 64, 67, 0.3), 0px 1px 3px 1px rgba(60, 64, 67, 0.15);\n",
              "      fill: #174EA6;\n",
              "    }\n",
              "\n",
              "    .colab-df-buttons div {\n",
              "      margin-bottom: 4px;\n",
              "    }\n",
              "\n",
              "    [theme=dark] .colab-df-convert {\n",
              "      background-color: #3B4455;\n",
              "      fill: #D2E3FC;\n",
              "    }\n",
              "\n",
              "    [theme=dark] .colab-df-convert:hover {\n",
              "      background-color: #434B5C;\n",
              "      box-shadow: 0px 1px 3px 1px rgba(0, 0, 0, 0.15);\n",
              "      filter: drop-shadow(0px 1px 2px rgba(0, 0, 0, 0.3));\n",
              "      fill: #FFFFFF;\n",
              "    }\n",
              "  </style>\n",
              "\n",
              "    <script>\n",
              "      const buttonEl =\n",
              "        document.querySelector('#df-8f8f6759-c291-43f3-8a5b-f5071f3e9b7c button.colab-df-convert');\n",
              "      buttonEl.style.display =\n",
              "        google.colab.kernel.accessAllowed ? 'block' : 'none';\n",
              "\n",
              "      async function convertToInteractive(key) {\n",
              "        const element = document.querySelector('#df-8f8f6759-c291-43f3-8a5b-f5071f3e9b7c');\n",
              "        const dataTable =\n",
              "          await google.colab.kernel.invokeFunction('convertToInteractive',\n",
              "                                                    [key], {});\n",
              "        if (!dataTable) return;\n",
              "\n",
              "        const docLinkHtml = 'Like what you see? Visit the ' +\n",
              "          '<a target=\"_blank\" href=https://colab.research.google.com/notebooks/data_table.ipynb>data table notebook</a>'\n",
              "          + ' to learn more about interactive tables.';\n",
              "        element.innerHTML = '';\n",
              "        dataTable['output_type'] = 'display_data';\n",
              "        await google.colab.output.renderOutput(dataTable, element);\n",
              "        const docLink = document.createElement('div');\n",
              "        docLink.innerHTML = docLinkHtml;\n",
              "        element.appendChild(docLink);\n",
              "      }\n",
              "    </script>\n",
              "  </div>\n",
              "\n",
              "\n",
              "<div id=\"df-93020db1-9b87-49ef-8715-4dc781e4df62\">\n",
              "  <button class=\"colab-df-quickchart\" onclick=\"quickchart('df-93020db1-9b87-49ef-8715-4dc781e4df62')\"\n",
              "            title=\"Suggest charts\"\n",
              "            style=\"display:none;\">\n",
              "\n",
              "<svg xmlns=\"http://www.w3.org/2000/svg\" height=\"24px\"viewBox=\"0 0 24 24\"\n",
              "     width=\"24px\">\n",
              "    <g>\n",
              "        <path d=\"M19 3H5c-1.1 0-2 .9-2 2v14c0 1.1.9 2 2 2h14c1.1 0 2-.9 2-2V5c0-1.1-.9-2-2-2zM9 17H7v-7h2v7zm4 0h-2V7h2v10zm4 0h-2v-4h2v4z\"/>\n",
              "    </g>\n",
              "</svg>\n",
              "  </button>\n",
              "\n",
              "<style>\n",
              "  .colab-df-quickchart {\n",
              "      --bg-color: #E8F0FE;\n",
              "      --fill-color: #1967D2;\n",
              "      --hover-bg-color: #E2EBFA;\n",
              "      --hover-fill-color: #174EA6;\n",
              "      --disabled-fill-color: #AAA;\n",
              "      --disabled-bg-color: #DDD;\n",
              "  }\n",
              "\n",
              "  [theme=dark] .colab-df-quickchart {\n",
              "      --bg-color: #3B4455;\n",
              "      --fill-color: #D2E3FC;\n",
              "      --hover-bg-color: #434B5C;\n",
              "      --hover-fill-color: #FFFFFF;\n",
              "      --disabled-bg-color: #3B4455;\n",
              "      --disabled-fill-color: #666;\n",
              "  }\n",
              "\n",
              "  .colab-df-quickchart {\n",
              "    background-color: var(--bg-color);\n",
              "    border: none;\n",
              "    border-radius: 50%;\n",
              "    cursor: pointer;\n",
              "    display: none;\n",
              "    fill: var(--fill-color);\n",
              "    height: 32px;\n",
              "    padding: 0;\n",
              "    width: 32px;\n",
              "  }\n",
              "\n",
              "  .colab-df-quickchart:hover {\n",
              "    background-color: var(--hover-bg-color);\n",
              "    box-shadow: 0 1px 2px rgba(60, 64, 67, 0.3), 0 1px 3px 1px rgba(60, 64, 67, 0.15);\n",
              "    fill: var(--button-hover-fill-color);\n",
              "  }\n",
              "\n",
              "  .colab-df-quickchart-complete:disabled,\n",
              "  .colab-df-quickchart-complete:disabled:hover {\n",
              "    background-color: var(--disabled-bg-color);\n",
              "    fill: var(--disabled-fill-color);\n",
              "    box-shadow: none;\n",
              "  }\n",
              "\n",
              "  .colab-df-spinner {\n",
              "    border: 2px solid var(--fill-color);\n",
              "    border-color: transparent;\n",
              "    border-bottom-color: var(--fill-color);\n",
              "    animation:\n",
              "      spin 1s steps(1) infinite;\n",
              "  }\n",
              "\n",
              "  @keyframes spin {\n",
              "    0% {\n",
              "      border-color: transparent;\n",
              "      border-bottom-color: var(--fill-color);\n",
              "      border-left-color: var(--fill-color);\n",
              "    }\n",
              "    20% {\n",
              "      border-color: transparent;\n",
              "      border-left-color: var(--fill-color);\n",
              "      border-top-color: var(--fill-color);\n",
              "    }\n",
              "    30% {\n",
              "      border-color: transparent;\n",
              "      border-left-color: var(--fill-color);\n",
              "      border-top-color: var(--fill-color);\n",
              "      border-right-color: var(--fill-color);\n",
              "    }\n",
              "    40% {\n",
              "      border-color: transparent;\n",
              "      border-right-color: var(--fill-color);\n",
              "      border-top-color: var(--fill-color);\n",
              "    }\n",
              "    60% {\n",
              "      border-color: transparent;\n",
              "      border-right-color: var(--fill-color);\n",
              "    }\n",
              "    80% {\n",
              "      border-color: transparent;\n",
              "      border-right-color: var(--fill-color);\n",
              "      border-bottom-color: var(--fill-color);\n",
              "    }\n",
              "    90% {\n",
              "      border-color: transparent;\n",
              "      border-bottom-color: var(--fill-color);\n",
              "    }\n",
              "  }\n",
              "</style>\n",
              "\n",
              "  <script>\n",
              "    async function quickchart(key) {\n",
              "      const quickchartButtonEl =\n",
              "        document.querySelector('#' + key + ' button');\n",
              "      quickchartButtonEl.disabled = true;  // To prevent multiple clicks.\n",
              "      quickchartButtonEl.classList.add('colab-df-spinner');\n",
              "      try {\n",
              "        const charts = await google.colab.kernel.invokeFunction(\n",
              "            'suggestCharts', [key], {});\n",
              "      } catch (error) {\n",
              "        console.error('Error during call to suggestCharts:', error);\n",
              "      }\n",
              "      quickchartButtonEl.classList.remove('colab-df-spinner');\n",
              "      quickchartButtonEl.classList.add('colab-df-quickchart-complete');\n",
              "    }\n",
              "    (() => {\n",
              "      let quickchartButtonEl =\n",
              "        document.querySelector('#df-93020db1-9b87-49ef-8715-4dc781e4df62 button');\n",
              "      quickchartButtonEl.style.display =\n",
              "        google.colab.kernel.accessAllowed ? 'block' : 'none';\n",
              "    })();\n",
              "  </script>\n",
              "</div>\n",
              "\n",
              "  <div id=\"id_7eb6b306-c8ee-4629-9972-ce79325bc5a3\">\n",
              "    <style>\n",
              "      .colab-df-generate {\n",
              "        background-color: #E8F0FE;\n",
              "        border: none;\n",
              "        border-radius: 50%;\n",
              "        cursor: pointer;\n",
              "        display: none;\n",
              "        fill: #1967D2;\n",
              "        height: 32px;\n",
              "        padding: 0 0 0 0;\n",
              "        width: 32px;\n",
              "      }\n",
              "\n",
              "      .colab-df-generate:hover {\n",
              "        background-color: #E2EBFA;\n",
              "        box-shadow: 0px 1px 2px rgba(60, 64, 67, 0.3), 0px 1px 3px 1px rgba(60, 64, 67, 0.15);\n",
              "        fill: #174EA6;\n",
              "      }\n",
              "\n",
              "      [theme=dark] .colab-df-generate {\n",
              "        background-color: #3B4455;\n",
              "        fill: #D2E3FC;\n",
              "      }\n",
              "\n",
              "      [theme=dark] .colab-df-generate:hover {\n",
              "        background-color: #434B5C;\n",
              "        box-shadow: 0px 1px 3px 1px rgba(0, 0, 0, 0.15);\n",
              "        filter: drop-shadow(0px 1px 2px rgba(0, 0, 0, 0.3));\n",
              "        fill: #FFFFFF;\n",
              "      }\n",
              "    </style>\n",
              "    <button class=\"colab-df-generate\" onclick=\"generateWithVariable('popdiffRNAdf')\"\n",
              "            title=\"Generate code using this dataframe.\"\n",
              "            style=\"display:none;\">\n",
              "\n",
              "  <svg xmlns=\"http://www.w3.org/2000/svg\" height=\"24px\"viewBox=\"0 0 24 24\"\n",
              "       width=\"24px\">\n",
              "    <path d=\"M7,19H8.4L18.45,9,17,7.55,7,17.6ZM5,21V16.75L18.45,3.32a2,2,0,0,1,2.83,0l1.4,1.43a1.91,1.91,0,0,1,.58,1.4,1.91,1.91,0,0,1-.58,1.4L9.25,21ZM18.45,9,17,7.55Zm-12,3A5.31,5.31,0,0,0,4.9,8.1,5.31,5.31,0,0,0,1,6.5,5.31,5.31,0,0,0,4.9,4.9,5.31,5.31,0,0,0,6.5,1,5.31,5.31,0,0,0,8.1,4.9,5.31,5.31,0,0,0,12,6.5,5.46,5.46,0,0,0,6.5,12Z\"/>\n",
              "  </svg>\n",
              "    </button>\n",
              "    <script>\n",
              "      (() => {\n",
              "      const buttonEl =\n",
              "        document.querySelector('#id_7eb6b306-c8ee-4629-9972-ce79325bc5a3 button.colab-df-generate');\n",
              "      buttonEl.style.display =\n",
              "        google.colab.kernel.accessAllowed ? 'block' : 'none';\n",
              "\n",
              "      buttonEl.onclick = () => {\n",
              "        google.colab.notebook.generateWithVariable('popdiffRNAdf');\n",
              "      }\n",
              "      })();\n",
              "    </script>\n",
              "  </div>\n",
              "\n",
              "    </div>\n",
              "  </div>\n"
            ],
            "application/vnd.google.colaboratory.intrinsic+json": {
              "type": "dataframe",
              "variable_name": "popdiffRNAdf",
              "summary": "{\n  \"name\": \"popdiffRNAdf\",\n  \"rows\": 42243,\n  \"fields\": [\n    {\n      \"column\": \"baseMean\",\n      \"properties\": {\n        \"dtype\": \"number\",\n        \"std\": 3284.435916435468,\n        \"min\": 0.0,\n        \"max\": 320815.297239096,\n        \"num_unique_values\": 40620,\n        \"samples\": [\n          0.54854410174819,\n          25.2565997302546,\n          977.44297193071\n        ],\n        \"semantic_type\": \"\",\n        \"description\": \"\"\n      }\n    },\n    {\n      \"column\": \"log2FoldChange\",\n      \"properties\": {\n        \"dtype\": \"number\",\n        \"std\": 0.8426894301143204,\n        \"min\": -4.6014989997006,\n        \"max\": 8.51167244878163,\n        \"num_unique_values\": 39863,\n        \"samples\": [\n          0.403583391308439,\n          0.403602891829616,\n          -0.379044770241887\n        ],\n        \"semantic_type\": \"\",\n        \"description\": \"\"\n      }\n    },\n    {\n      \"column\": \"lfcSE\",\n      \"properties\": {\n        \"dtype\": \"number\",\n        \"std\": 2.118545945974376,\n        \"min\": 0.0461004743075122,\n        \"max\": 8.32362977791548,\n        \"num_unique_values\": 39453,\n        \"samples\": [\n          1.38286252428701,\n          0.105016853425102,\n          3.96233832380483\n        ],\n        \"semantic_type\": \"\",\n        \"description\": \"\"\n      }\n    },\n    {\n      \"column\": \"stat\",\n      \"properties\": {\n        \"dtype\": \"number\",\n        \"std\": 2.2709561035695476,\n        \"min\": -19.7424888349782,\n        \"max\": 30.3204876636312,\n        \"num_unique_values\": 39659,\n        \"samples\": [\n          0.519192663493026,\n          0.955815337965913,\n          -0.747456510930171\n        ],\n        \"semantic_type\": \"\",\n        \"description\": \"\"\n      }\n    },\n    {\n      \"column\": \"pvalue\",\n      \"properties\": {\n        \"dtype\": \"number\",\n        \"std\": 0.3436324140608414,\n        \"min\": 6.15646594871226e-202,\n        \"max\": 0.999989759287094,\n        \"num_unique_values\": 39600,\n        \"samples\": [\n          0.71564556033964,\n          0.37497255855232,\n          0.279915972352179\n        ],\n        \"semantic_type\": \"\",\n        \"description\": \"\"\n      }\n    },\n    {\n      \"column\": \"padj\",\n      \"properties\": {\n        \"dtype\": \"number\",\n        \"std\": 0.3529629910910758,\n        \"min\": 1.41253954727254e-197,\n        \"max\": 0.999965120510453,\n        \"num_unique_values\": 13536,\n        \"samples\": [\n          0.0007680495024439,\n          0.383010047910506,\n          0.506814772662242\n        ],\n        \"semantic_type\": \"\",\n        \"description\": \"\"\n      }\n    }\n  ]\n}"
            }
          },
          "metadata": {},
          "execution_count": 8
        }
      ]
    },
    {
      "cell_type": "code",
      "source": [],
      "metadata": {
        "id": "D1IPIoorrJzM"
      },
      "execution_count": 8,
      "outputs": []
    },
    {
      "cell_type": "markdown",
      "source": [
        "# Find the adjusted p-value for each gene in each person and each assay"
      ],
      "metadata": {
        "id": "2G10ZZbNrKye"
      }
    },
    {
      "cell_type": "code",
      "source": [
        "padj_per_person = pd.DataFrame(index=popdiffRNAdf.index)\n",
        "padj_per_person[\"pop_RNA\"] = popdiffRNAdf[\"padj\"]\n",
        "padj_per_person[\"pop_PRO\"] = popdiffPROdf[\"padj\"]\n",
        "\n",
        "for person in people:\n",
        "    print(person)\n",
        "    persondiffPROdf = pd.read_csv(indir+person+PROsufix, index_col=0)\n",
        "    persondiffRNAdf = pd.read_csv(indir+person+RNAsufix, index_col=0)\n",
        "    persondiffPROdf = persondiffPROdf[[\"padj\"]]\n",
        "    persondiffRNAdf = persondiffRNAdf[[\"padj\"]]\n",
        "    persondiffPROdf.columns = [person+\"_PRO\"]\n",
        "    persondiffRNAdf.columns = [person+\"_RNA\"]\n",
        "    padj_per_person = pd.concat([padj_per_person, persondiffPROdf, persondiffRNAdf], axis=1)\n",
        "\n",
        "\n"
      ],
      "metadata": {
        "colab": {
          "base_uri": "https://localhost:8080/"
        },
        "id": "9I6UQSrDoVHU",
        "outputId": "4bf92933-52e1-4625-bdcc-517b17922cb3"
      },
      "execution_count": null,
      "outputs": [
        {
          "output_type": "stream",
          "name": "stdout",
          "text": [
            "ChenChao\n",
            "Dave\n",
            "Eric\n",
            "Ethan\n",
            "Khaondo\n",
            "Niyilolawa\n",
            "Pedro\n",
            "Srivathani\n"
          ]
        }
      ]
    },
    {
      "cell_type": "markdown",
      "source": [
        "# Create a data frame with only genes that significant in at least one comparison (In one person or in the population in RNA seq or in PRO-seq)"
      ],
      "metadata": {
        "id": "LhwTW4f2rS-_"
      }
    },
    {
      "cell_type": "code",
      "source": [],
      "metadata": {
        "id": "BGwcGyykrSOD"
      },
      "execution_count": null,
      "outputs": []
    },
    {
      "cell_type": "code",
      "source": [
        "threshold=0.01\n",
        "sig_padj_per_person = padj_per_person.copy()\n",
        "sig_padj_per_person[\"min_padj\"] = sig_padj_per_person.min(axis=1)\n",
        "sig_padj_per_person = sig_padj_per_person[sig_padj_per_person[\"min_padj\"]<threshold] #If it was significant in any experiment keep the gene\n",
        "sig_padj_per_person.sort_values(\"pop_RNA\")"
      ],
      "metadata": {
        "id": "M6rzzWQwpCPX"
      },
      "execution_count": null,
      "outputs": []
    },
    {
      "cell_type": "markdown",
      "source": [
        "# Find genes that are significant in the population but not in any one person"
      ],
      "metadata": {
        "id": "T1UFtO7qrnbO"
      }
    },
    {
      "cell_type": "code",
      "source": [
        "keepcols = [cn for cn in sig_padj_per_person.columns if \"pop\" in cn]\n",
        "pop_adj_df = sig_padj_per_person[keepcols]\n",
        "keepcols = [cn for cn in sig_padj_per_person.columns if not \"pop\" in cn]\n",
        "people_adj_df = sig_padj_per_person[keepcols]\n",
        "keepcols = [cn for cn in people_adj_df.columns if \"RNA\" in cn]\n",
        "people_adj_df_RNA = people_adj_df[keepcols]\n",
        "keepcols = [cn for cn in people_adj_df.columns if \"PRO\" in cn]\n",
        "people_adj_df_PRO = people_adj_df[keepcols]\n",
        "keepcols = [cn for cn in pop_adj_df.columns if \"RNA\" in cn]\n",
        "pop_adj_df_RNA = pop_adj_df[keepcols]\n",
        "keepcols = [cn for cn in pop_adj_df.columns if \"PRO\" in cn]\n",
        "pop_adj_df_PRO = pop_adj_df[keepcols]"
      ],
      "metadata": {
        "id": "c1FcHq9IrmNu"
      },
      "execution_count": null,
      "outputs": []
    },
    {
      "cell_type": "code",
      "source": [
        "sig_pop_RNA = pop_adj_df_RNA[pop_adj_df_RNA[\"pop_RNA\"]<threshold]\n",
        "sig_pop_PRO = pop_adj_df_PRO[pop_adj_df_PRO[\"pop_PRO\"]<threshold]\n",
        "sig_people_RNA = people_adj_df_RNA[people_adj_df_RNA.min(axis=1)<threshold]\n",
        "sig_people_PRO = people_adj_df_PRO[people_adj_df_PRO.min(axis=1)<threshold]"
      ],
      "metadata": {
        "id": "0eNiheqlrh9w"
      },
      "execution_count": null,
      "outputs": []
    },
    {
      "cell_type": "code",
      "source": [
        "RNA_genes_pop_not_people = [gn for gn in sig_pop_RNA.index if gn not in sig_people_RNA.index]\n",
        "print(\"RNA genes\", RNA_genes_pop_not_people)\n",
        "PRO_genes_pop_not_people = [gn for gn in sig_pop_PRO.index if gn not in sig_people_PRO.index]\n",
        "print(\"PRO genes\", PRO_genes_pop_not_people)"
      ],
      "metadata": {
        "id": "FlwBV3r7s-57"
      },
      "execution_count": null,
      "outputs": []
    },
    {
      "cell_type": "markdown",
      "source": [
        "# Find genes that are significant in people not in population"
      ],
      "metadata": {
        "id": "219THx-stwwB"
      }
    },
    {
      "cell_type": "code",
      "source": [
        "RNA_genes_pop_not_people = [gn for gn in sig_people_RNA.index if gn not in sig_pop_RNA.index]\n",
        "print(\"RNA genes\", RNA_genes_pop_not_people)\n",
        "PRO_genes_pop_not_people = [gn for gn in sig_people_PRO.index if gn not in sig_pop_PRO.index]\n",
        "print(\"PRO genes\", PRO_genes_pop_not_people)"
      ],
      "metadata": {
        "id": "9BNQHX4ut2bD"
      },
      "execution_count": null,
      "outputs": []
    },
    {
      "cell_type": "markdown",
      "source": [
        "# Plot one gene"
      ],
      "metadata": {
        "id": "0ln_qnmUuDXx"
      }
    },
    {
      "cell_type": "code",
      "source": [
        "\n",
        "# Reshape the PROcounts DataFrame from wide to long format\n",
        "PROcounts_long = PROcounts.reset_index().melt(id_vars='index', var_name='sample', value_name='count')\n",
        "\n",
        "# Split the sample column into 'name' and 'assay' columns\n",
        "PROcounts_long[['assay', 'treatment',\"person\", \"replicate\"]] = PROcounts_long['sample'].str.split('.', expand=True)\n",
        "\n",
        "# Display the reshaped DataFrame (optional)\n",
        "PROcounts_long\n",
        "\n",
        "# Reshape the RNAcounts DataFrame from wide to long format\n",
        "RNAcounts_long = RNAcounts.reset_index().melt(id_vars='index', var_name='sample', value_name='count')\n",
        "\n",
        "# Split the sample column into 'name' and 'assay' columns\n",
        "RNAcounts_long[['assay', 'treatment',\"person\", \"replicate\"]] = RNAcounts_long['sample'].str.split('.', expand=True)\n",
        "\n",
        "# Display the reshaped DataFrame (optional)\n",
        "RNAcounts_long"
      ],
      "metadata": {
        "id": "b_9WF2QQuCp-"
      },
      "execution_count": null,
      "outputs": []
    },
    {
      "cell_type": "code",
      "source": [
        "def getonegene(onegene=\"STMN1\"):\n",
        "  one_gene_PROcounts_long = PROcounts_long[PROcounts_long[\"index\"]==onegene]\n",
        "  one_gene_RNAcounts_long = RNAcounts_long[RNAcounts_long[\"index\"]==onegene]\n",
        "  one_gene_long = pd.concat([one_gene_PROcounts_long, one_gene_RNAcounts_long])\n",
        "  return one_gene_long\n",
        "\n",
        "  # prompt: make two new columns in one_gene_long that come from the treatment column and the values are the count column\n",
        "\n",
        "def one_gene_long_to_IFN_BSA_split(one_gene_long):\n",
        "# Create new columns 'treatment_count' and 'treatment_count'\n",
        "  one_gene_long['experiment']= one_gene_long['assay'] + '.' + one_gene_long['person'] + '.' + one_gene_long['replicate']\n",
        "  one_gene_long_BSA = one_gene_long[one_gene_long['treatment'].str.contains('BSA')]\n",
        "  one_gene_long_IFN = one_gene_long[one_gene_long['treatment'].str.contains('IFN')]\n",
        "  one_gene_long_BSA = one_gene_long_BSA[[\"experiment\", \"assay\", \"person\", \"replicate\", \"count\"]]\n",
        "  one_gene_long_IFN = one_gene_long_IFN[[\"experiment\", \"count\"]]\n",
        "  combo = one_gene_long_BSA.merge(one_gene_long_IFN, on=\"experiment\", suffixes=(\"_BSA\", \"_IFN\"))\n",
        "  return combo"
      ],
      "metadata": {
        "id": "5KmlSVC_ws1G"
      },
      "execution_count": null,
      "outputs": []
    },
    {
      "cell_type": "code",
      "source": [
        "#onegene=\"STMN1\"\n",
        "onegene=\"DTX3L\"\n",
        "one_gene_long = getonegene(onegene=onegene)\n",
        "onegene_BSA_IFN = one_gene_long_to_IFN_BSA_split(one_gene_long)\n",
        "onegene_BSA_IFN_RNA = onegene_BSA_IFN[onegene_BSA_IFN[\"assay\"]==\"RNA\"]\n",
        "onegene_BSA_IFN_PRO = onegene_BSA_IFN[onegene_BSA_IFN[\"assay\"]==\"PRO\"]\n"
      ],
      "metadata": {
        "id": "eGDlHLVZumij"
      },
      "execution_count": null,
      "outputs": []
    },
    {
      "cell_type": "code",
      "source": [
        "fig = px.scatter(onegene_BSA_IFN_RNA, x=\"count_BSA\", y=\"count_IFN\", trendline=\"ols\", color=\"person\")\n",
        "fig.add_shape(type=\"line\",\n",
        "              x0=min(onegene_BSA_IFN_RNA['count_BSA']), y0=min(onegene_BSA_IFN_RNA['count_IFN']),\n",
        "              x1=max(onegene_BSA_IFN_RNA['count_BSA']), y1=max(onegene_BSA_IFN_RNA['count_IFN']),\n",
        "              line=dict(color=\"red\", width=2,  dash='dot'))\n",
        "fig.show()"
      ],
      "metadata": {
        "id": "UgN0Mcp8yKHa"
      },
      "execution_count": null,
      "outputs": []
    },
    {
      "cell_type": "code",
      "source": [
        "\n",
        "fig = px.scatter(onegene_BSA_IFN_RNA, x=\"count_BSA\", y=\"count_IFN\", trendline=\"ols\", color=\"person\")\n",
        "fig.add_shape(type=\"line\",\n",
        "              x0=min(onegene_BSA_IFN_RNA['count_BSA']), y0=min(onegene_BSA_IFN_RNA['count_IFN']),\n",
        "              x1=max(onegene_BSA_IFN_RNA['count_BSA']), y1=max(onegene_BSA_IFN_RNA['count_IFN']),\n",
        "              line=dict(color=\"red\", width=2,  dash='dot'))\n",
        "\n",
        "# Force the x and y axes to have the same range\n",
        "axis_range = [min(min(onegene_BSA_IFN_RNA['count_BSA']), min(onegene_BSA_IFN_RNA['count_IFN'])),\n",
        "              max(max(onegene_BSA_IFN_RNA['count_BSA']), max(onegene_BSA_IFN_RNA['count_IFN']))]\n",
        "fig.update_xaxes(range=axis_range)\n",
        "fig.update_yaxes(range=axis_range)\n",
        "\n",
        "fig.show()"
      ],
      "metadata": {
        "id": "wsngb-nXoQNO"
      },
      "execution_count": null,
      "outputs": []
    },
    {
      "cell_type": "code",
      "source": [
        "fig = px.scatter(onegene_BSA_IFN_PRO, x=\"count_BSA\", y=\"count_IFN\", trendline=\"ols\", color=\"person\")\n",
        "fig.add_shape(type=\"line\",\n",
        "              x0=min(onegene_BSA_IFN_PRO['count_BSA']), y0=min(onegene_BSA_IFN_PRO['count_IFN']),\n",
        "              x1=max(onegene_BSA_IFN_PRO['count_BSA']), y1=max(onegene_BSA_IFN_PRO['count_IFN']),\n",
        "              line=dict(color=\"red\", width=2,  dash='dot'))\n",
        "fig.show()"
      ],
      "metadata": {
        "id": "EX1L9iYT1JXe"
      },
      "execution_count": null,
      "outputs": []
    },
    {
      "cell_type": "code",
      "source": [
        "# prompt: force the x and y axis in the graph above to be the same values\n",
        "\n",
        "\n",
        "fig = px.scatter(onegene_BSA_IFN_PRO, x=\"count_BSA\", y=\"count_IFN\", trendline=\"ols\", color=\"person\")\n",
        "fig.add_shape(type=\"line\",\n",
        "              x0=min(onegene_BSA_IFN_PRO['count_BSA']), y0=min(onegene_BSA_IFN_PRO['count_IFN']),\n",
        "              x1=max(onegene_BSA_IFN_PRO['count_BSA']), y1=max(onegene_BSA_IFN_PRO['count_IFN']),\n",
        "              line=dict(color=\"red\", width=2,  dash='dot'))\n",
        "\n",
        "# Force the x and y axes to have the same range\n",
        "axis_range = [min(min(onegene_BSA_IFN_PRO['count_BSA']), min(onegene_BSA_IFN_PRO['count_IFN'])),\n",
        "              max(max(onegene_BSA_IFN_PRO['count_BSA']), max(onegene_BSA_IFN_PRO['count_IFN']))]\n",
        "fig.update_xaxes(range=axis_range)\n",
        "fig.update_yaxes(range=axis_range)\n",
        "\n",
        "fig.show()"
      ],
      "metadata": {
        "id": "swt4v8Tyod6q"
      },
      "execution_count": null,
      "outputs": []
    }
  ]
}